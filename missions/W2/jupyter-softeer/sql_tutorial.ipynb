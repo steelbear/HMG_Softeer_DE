{
 "cells": [
  {
   "cell_type": "markdown",
   "metadata": {},
   "source": [
    "# SQLite 불러오기"
   ]
  },
  {
   "cell_type": "code",
   "execution_count": null,
   "metadata": {},
   "outputs": [],
   "source": [
    "import sqlite3\n",
    "\n",
    "\n",
    "def connect_example_db():\n",
    "    try:\n",
    "        conn = sqlite3.connect('northwind.db')\n",
    "        cur = conn.cursor()\n",
    "    except sqlite3.Error as e:\n",
    "        print('Err:', e)\n",
    "\n",
    "    return conn, cur\n",
    "\n",
    "conn, cur = connect_example_db()"
   ]
  },
  {
   "cell_type": "code",
   "execution_count": null,
   "metadata": {},
   "outputs": [],
   "source": [
    "from IPython.display import display, Markdown\n",
    "\n",
    "\n",
    "def execute_and_show(cur: sqlite3.Cursor, query: str, *args):\n",
    "    '''execute the query and show the result with markdown'''\n",
    "    data = cur.execute(query, args)\n",
    "    md_str_list = []\n",
    "\n",
    "    if data.description is None:\n",
    "        return\n",
    "    \n",
    "    column_names = list(map(lambda column: column[0], data.description))\n",
    "    md_str_list.append('|' + '|'.join(column_names) + '|')\n",
    "    md_str_list.append('|' + '-|' * len(column_names))\n",
    "    for row in data:\n",
    "        row = list(map(lambda cell: '' if cell is None else str(cell), row))\n",
    "        md_str_list.append('|' + '|'.join(row) + '|')\n",
    "\n",
    "    md_str = '\\n'.join(md_str_list)\n",
    "    md = Markdown(md_str)\n",
    "    display(md)"
   ]
  },
  {
   "cell_type": "markdown",
   "metadata": {},
   "source": [
    "# SQL SELECT Statement"
   ]
  },
  {
   "cell_type": "code",
   "execution_count": null,
   "metadata": {},
   "outputs": [],
   "source": [
    "# select some columns\n",
    "execute_and_show(cur, 'SELECT CompanyName, City FROM Customers;')"
   ]
  },
  {
   "cell_type": "code",
   "execution_count": null,
   "metadata": {},
   "outputs": [],
   "source": [
    "# select all columns\n",
    "execute_and_show(cur, 'SELECT * FROM Customers;')"
   ]
  },
  {
   "cell_type": "markdown",
   "metadata": {},
   "source": [
    "# SQL SELECT DISTINCT"
   ]
  },
  {
   "cell_type": "code",
   "execution_count": null,
   "metadata": {},
   "outputs": [],
   "source": [
    "# select distinct\n",
    "execute_and_show(cur,\n",
    "                 'SELECT DISTINCT Country FROM Customers;')"
   ]
  },
  {
   "cell_type": "code",
   "execution_count": null,
   "metadata": {},
   "outputs": [],
   "source": [
    "# select without distinct\n",
    "execute_and_show(cur,\n",
    "                 'SELECT Country FROM Customers;')"
   ]
  },
  {
   "cell_type": "code",
   "execution_count": null,
   "metadata": {},
   "outputs": [],
   "source": [
    "# count distinct\n",
    "execute_and_show(cur,\n",
    "                 'SELECT COUNT(DISTINCT Country) FROM Customers;')"
   ]
  },
  {
   "cell_type": "code",
   "execution_count": null,
   "metadata": {},
   "outputs": [],
   "source": [
    "# count distinct for MS Access\n",
    "execute_and_show(cur,\n",
    "                 \"\"\"\n",
    "                 SELECT Count(*) AS DistinctCountries\n",
    "                 FROM (SELECT DISTINCT Country FROM Customers);\n",
    "                 \"\"\")"
   ]
  },
  {
   "cell_type": "markdown",
   "metadata": {},
   "source": [
    "- SQLite에서 `Count(Distinct Countries)`와 `Count(*)` 결과값이 다른 이유\n",
    "    - `Count(Distinct Countries)`\n",
    "        - 집계시 NULL 제외\n",
    "    - `Count(*)`\n",
    "        - NULL 상관 없이 row 수로 집계\n",
    "\n",
    "출처: https://www.sqlite.org/lang_aggfunc.html"
   ]
  },
  {
   "cell_type": "markdown",
   "metadata": {},
   "source": [
    "# SQL WHERE"
   ]
  },
  {
   "cell_type": "code",
   "execution_count": null,
   "metadata": {},
   "outputs": [],
   "source": [
    "# where statement for text field\n",
    "execute_and_show(cur,\n",
    "                 '''\n",
    "                 SELECT * FROM Customers\n",
    "                 WHERE Country='Mexico';\n",
    "                 ''')"
   ]
  },
  {
   "cell_type": "code",
   "execution_count": null,
   "metadata": {},
   "outputs": [],
   "source": [
    "# where statement for numeric field\n",
    "execute_and_show(cur,\n",
    "                 '''\n",
    "                 SELECT * FROM Products\n",
    "                 WHERE ProductID=1;\n",
    "                 ''')"
   ]
  },
  {
   "cell_type": "code",
   "execution_count": null,
   "metadata": {},
   "outputs": [],
   "source": [
    "# operators in the WHERE clause\n",
    "execute_and_show(cur,\n",
    "                 '''\n",
    "                 SELECT * FROM Products\n",
    "                 WHERE ProductID > 50;\n",
    "                 ''')"
   ]
  },
  {
   "cell_type": "markdown",
   "metadata": {},
   "source": [
    "# SQL ORDER BY"
   ]
  },
  {
   "cell_type": "code",
   "execution_count": null,
   "metadata": {},
   "outputs": [],
   "source": [
    "execute_and_show(cur,\n",
    "                 '''\n",
    "                 SELECT * FROM Products\n",
    "                 ORDER BY UnitPrice;\n",
    "                 ''')"
   ]
  },
  {
   "cell_type": "code",
   "execution_count": null,
   "metadata": {},
   "outputs": [],
   "source": [
    "# ORDER BY DESC\n",
    "execute_and_show(cur,\n",
    "                 '''\n",
    "                 SELECT * FROM Products\n",
    "                 ORDER BY UnitPrice DESC;\n",
    "                 ''')"
   ]
  },
  {
   "cell_type": "code",
   "execution_count": null,
   "metadata": {},
   "outputs": [],
   "source": [
    "# ordering alphabetically\n",
    "execute_and_show(cur,\n",
    "                 '''\n",
    "                 SELECT * FROM Products\n",
    "                 ORDER BY ProductName;\n",
    "                 ''')"
   ]
  },
  {
   "cell_type": "code",
   "execution_count": null,
   "metadata": {},
   "outputs": [],
   "source": [
    "# ordering alphabetically DESC\n",
    "execute_and_show(cur,\n",
    "                 '''\n",
    "                 SELECT * FROM Products\n",
    "                 ORDER BY ProductName DESC;\n",
    "                 ''')"
   ]
  },
  {
   "cell_type": "code",
   "execution_count": null,
   "metadata": {},
   "outputs": [],
   "source": [
    "# ORDER BY several columns\n",
    "execute_and_show(cur,\n",
    "                 '''\n",
    "                 SELECT * FROM Customers\n",
    "                 ORDER BY Country, CompanyName\n",
    "                 ''')"
   ]
  },
  {
   "cell_type": "code",
   "execution_count": null,
   "metadata": {},
   "outputs": [],
   "source": [
    "# using both ASC and DESC\n",
    "execute_and_show(cur,\n",
    "                 '''\n",
    "                 SELECT * FROM Customers\n",
    "                 ORDER BY Country ASC, CompanyName DESC;\n",
    "                 ''')"
   ]
  },
  {
   "cell_type": "markdown",
   "metadata": {},
   "source": [
    "# SQL AND operator"
   ]
  },
  {
   "cell_type": "code",
   "execution_count": null,
   "metadata": {},
   "outputs": [],
   "source": [
    "execute_and_show(cur,\n",
    "                 '''\n",
    "                 SELECT *\n",
    "                 FROM Customers\n",
    "                 WHERE Country='Spain' AND CompanyName LIKE 'G%';\n",
    "                 ''')"
   ]
  },
  {
   "cell_type": "code",
   "execution_count": null,
   "metadata": {},
   "outputs": [],
   "source": [
    "# all conditions must be true\n",
    "execute_and_show(cur,\n",
    "                 '''\n",
    "                 SELECT * FROM Customers\n",
    "                 WHERE Country='Germany'\n",
    "                 AND City='Berlin'\n",
    "                 AND PostalCode > 12000;\n",
    "                 ''')"
   ]
  },
  {
   "cell_type": "markdown",
   "metadata": {},
   "source": [
    "# SQL OR Operator"
   ]
  },
  {
   "cell_type": "code",
   "execution_count": null,
   "metadata": {},
   "outputs": [],
   "source": [
    "execute_and_show(cur,\n",
    "                 '''\n",
    "                 SELECT *\n",
    "                 FROM Customers\n",
    "                 WHERE Country='Germany' OR Country='Spain';\n",
    "                 ''')"
   ]
  },
  {
   "cell_type": "code",
   "execution_count": null,
   "metadata": {},
   "outputs": [],
   "source": [
    "# at least one condition must be true\n",
    "execute_and_show(cur,\n",
    "                 '''\n",
    "                 SELECT * FROM Customers\n",
    "                 WHERE City = 'Berlin' OR CompanyName LIKE 'G%' OR Country='Norway';\n",
    "                 ''')"
   ]
  },
  {
   "cell_type": "code",
   "execution_count": null,
   "metadata": {},
   "outputs": [],
   "source": [
    "# And + OR\n",
    "execute_and_show(cur,\n",
    "                 '''\n",
    "                 SELECT * FROM Customers\n",
    "                 WHERE Country='Spain' AND (CompanyName LIKE 'G%' OR CompanyName LIKE 'R%');\n",
    "                 ''')"
   ]
  },
  {
   "cell_type": "code",
   "execution_count": null,
   "metadata": {},
   "outputs": [],
   "source": [
    "# AND first, OR follows\n",
    "execute_and_show(cur,\n",
    "                 '''\n",
    "                 SELECT * FROM Customers\n",
    "                 WHERE Country='Spain' AND CompanyName LIKE 'G%' OR CompanyName LIKE 'R%';\n",
    "                 ''')"
   ]
  },
  {
   "cell_type": "markdown",
   "metadata": {},
   "source": [
    "# SQL NOT Operator"
   ]
  },
  {
   "cell_type": "code",
   "execution_count": null,
   "metadata": {},
   "outputs": [],
   "source": [
    "execute_and_show(cur,\n",
    "                 '''\n",
    "                 SELECT * FROM Customers\n",
    "                 WHERE NOT Country='Spain';\n",
    "                 ''')"
   ]
  },
  {
   "cell_type": "code",
   "execution_count": null,
   "metadata": {},
   "outputs": [],
   "source": [
    "# NOT LIKE\n",
    "execute_and_show(cur,\n",
    "                 '''\n",
    "                 SELECT * FROM Customers\n",
    "                 WHERE CompanyName NOT LIKE 'A%';\n",
    "                 ''')"
   ]
  },
  {
   "cell_type": "code",
   "execution_count": null,
   "metadata": {},
   "outputs": [],
   "source": [
    "# NOT BETWEEN\n",
    "execute_and_show(cur,\n",
    "                 '''\n",
    "                 SELECT * FROM Products\n",
    "                 WHERE UnitPrice NOT BETWEEN 10 AND 60;\n",
    "                 ''')"
   ]
  },
  {
   "cell_type": "code",
   "execution_count": null,
   "metadata": {},
   "outputs": [],
   "source": [
    "# NOT IN\n",
    "execute_and_show(cur,\n",
    "                 '''\n",
    "                 SELECT * FROM Customers\n",
    "                 WHERE City NOT IN ('Paris', 'London');\n",
    "                 ''')"
   ]
  },
  {
   "cell_type": "code",
   "execution_count": null,
   "metadata": {},
   "outputs": [],
   "source": [
    "# NOT Grater than\n",
    "execute_and_show(cur,\n",
    "                 '''\n",
    "                 SELECT * FROM Products\n",
    "                 WHERE NOT UnitPrice > 20;\n",
    "                 ''')"
   ]
  },
  {
   "cell_type": "code",
   "execution_count": null,
   "metadata": {},
   "outputs": [],
   "source": [
    "# NOT Less than\n",
    "execute_and_show(cur,\n",
    "                 '''\n",
    "                 SELECT * FROM Products\n",
    "                 WHERE NOT UnitPrice < 20;\n",
    "                 ''')"
   ]
  },
  {
   "cell_type": "markdown",
   "metadata": {},
   "source": [
    "# SQL INSERT INTO"
   ]
  },
  {
   "cell_type": "code",
   "execution_count": null,
   "metadata": {},
   "outputs": [],
   "source": [
    "execute_and_show(cur,\n",
    "                 '''\n",
    "                 INSERT INTO Customers (CustomerID, CompanyName, ContactName, Address, City, PostalCode, Country)\n",
    "                 VALUES ('CARDL', 'Cardinal', 'Tom B. Erichsen', 'Skagen 21', 'Stavanger', '4006', 'Norway');\n",
    "                 ''')"
   ]
  },
  {
   "cell_type": "code",
   "execution_count": null,
   "metadata": {},
   "outputs": [],
   "source": [
    "# insert data only in specified columns\n",
    "execute_and_show(cur,\n",
    "                 '''\n",
    "                 INSERT INTO Customers (CompanyName, City, Country)\n",
    "                 VALUES ('Cardinal', 'Stavanger', 'Norway');\n",
    "                 ''')"
   ]
  },
  {
   "cell_type": "code",
   "execution_count": null,
   "metadata": {},
   "outputs": [],
   "source": [
    "# insert multiple rows\n",
    "execute_and_show(cur,\n",
    "                 '''\n",
    "                 INSERT INTO Customers (CompanyName, ContactName, Address, City, PostalCode, Country)\n",
    "                 VALUES\n",
    "                 ('Cardinal', 'Tom B. Erichsen', 'Skagen 21', 'Stavanger', '4006', 'Norway'),\n",
    "                 ('Greasy Burger', 'Per Olsen', 'Gateveien 15', 'Sandnes', '4306', 'Norway'),\n",
    "                 ('Tasty Tee', 'Finn Egan', 'Streetroad 19B', 'Liverpool', 'L1 0AA', 'UK');\n",
    "                 ''')"
   ]
  },
  {
   "cell_type": "code",
   "execution_count": null,
   "metadata": {},
   "outputs": [],
   "source": [
    "execute_and_show(cur,\n",
    "                 '''\n",
    "                 SELECT * FROM Customers\n",
    "                 ORDER BY CustomerID LIMIT 5;\n",
    "                 ''')"
   ]
  },
  {
   "cell_type": "markdown",
   "metadata": {},
   "source": [
    "# SQL NULL Values"
   ]
  },
  {
   "cell_type": "code",
   "execution_count": null,
   "metadata": {},
   "outputs": [],
   "source": [
    "execute_and_show(cur,\n",
    "                 '''\n",
    "                 SELECT CompanyName, ContactName, Address\n",
    "                 FROM Customers\n",
    "                 WHERE Address IS NULL;\n",
    "                 ''')"
   ]
  },
  {
   "cell_type": "code",
   "execution_count": null,
   "metadata": {},
   "outputs": [],
   "source": [
    "execute_and_show(cur,\n",
    "                 '''\n",
    "                 SELECT CompanyName, ContactName, Address\n",
    "                 FROM Customers\n",
    "                 WHERE Address IS NOT NULL;\n",
    "                 ''')"
   ]
  },
  {
   "cell_type": "markdown",
   "metadata": {},
   "source": [
    "# SQL UPDATE"
   ]
  },
  {
   "cell_type": "code",
   "execution_count": null,
   "metadata": {},
   "outputs": [],
   "source": [
    "execute_and_show(cur,\n",
    "                 '''\n",
    "                 UPDATE Customers\n",
    "                 SET ContactName='Alfred Schmidt', City='Frankfurt'\n",
    "                 WHERE CustomerID='ALFKI';\n",
    "                 ''')"
   ]
  },
  {
   "cell_type": "code",
   "execution_count": null,
   "metadata": {},
   "outputs": [],
   "source": [
    "execute_and_show(cur,\n",
    "                 '''\n",
    "                 SELECT * FROM Customers\n",
    "                 WHERE CustomerID='ALFKI';\n",
    "                 ''')"
   ]
  },
  {
   "cell_type": "code",
   "execution_count": null,
   "metadata": {},
   "outputs": [],
   "source": [
    "# update multple records\n",
    "execute_and_show(cur,\n",
    "                 '''\n",
    "                 UPDATE Customers\n",
    "                 SET ContactName='Juan'\n",
    "                 WHERE Country='Mexico';\n",
    "                 ''')"
   ]
  },
  {
   "cell_type": "code",
   "execution_count": null,
   "metadata": {},
   "outputs": [],
   "source": [
    "execute_and_show(cur,\n",
    "                 '''\n",
    "                 SELECT * FROM Customers\n",
    "                 WHERE Country='Mexico';\n",
    "                 ''')"
   ]
  },
  {
   "cell_type": "code",
   "execution_count": null,
   "metadata": {},
   "outputs": [],
   "source": [
    "# update all rows\n",
    "execute_and_show(cur,\n",
    "                 '''\n",
    "                 UPDATE Customers\n",
    "                 SET ContactName='Juan';\n",
    "                 ''')"
   ]
  },
  {
   "cell_type": "code",
   "execution_count": null,
   "metadata": {},
   "outputs": [],
   "source": [
    "execute_and_show(cur,\n",
    "                 '''\n",
    "                 SELECT CustomerID, ContactName FROM Customers\n",
    "                 ''')"
   ]
  },
  {
   "cell_type": "code",
   "execution_count": null,
   "metadata": {},
   "outputs": [],
   "source": [
    "# close updated database\n",
    "conn.close()"
   ]
  },
  {
   "cell_type": "code",
   "execution_count": null,
   "metadata": {},
   "outputs": [],
   "source": [
    "# restore database\n",
    "!rm northwind.db\n",
    "!cp northwind_original.db northwind.db"
   ]
  },
  {
   "cell_type": "code",
   "execution_count": null,
   "metadata": {},
   "outputs": [],
   "source": [
    "# reconnect database\n",
    "conn, cur = connect_example_db()"
   ]
  },
  {
   "cell_type": "markdown",
   "metadata": {},
   "source": [
    "# SQL DELETE"
   ]
  },
  {
   "cell_type": "code",
   "execution_count": null,
   "metadata": {},
   "outputs": [],
   "source": [
    "execute_and_show(cur,\n",
    "                 '''\n",
    "                 DELETE FROM Customers WHERE CompanyName='Alfreds Futterkiste';\n",
    "                 ''')"
   ]
  },
  {
   "cell_type": "code",
   "execution_count": null,
   "metadata": {},
   "outputs": [],
   "source": [
    "execute_and_show(cur,\n",
    "                 '''\n",
    "                 SELECT * FROM Customers\n",
    "                 WHERE CompanyName='Alfred Futterkiste';\n",
    "                 ''')"
   ]
  },
  {
   "cell_type": "code",
   "execution_count": null,
   "metadata": {},
   "outputs": [],
   "source": [
    "# delete all rows\n",
    "execute_and_show(cur,\n",
    "                 '''\n",
    "                 DELETE FROM Customers;\n",
    "                 ''')"
   ]
  },
  {
   "cell_type": "code",
   "execution_count": null,
   "metadata": {},
   "outputs": [],
   "source": [
    "execute_and_show(cur,\n",
    "                 '''\n",
    "                 SELECT * FROM Customers;\n",
    "                 ''')"
   ]
  },
  {
   "cell_type": "code",
   "execution_count": null,
   "metadata": {},
   "outputs": [],
   "source": [
    "# delete table\n",
    "execute_and_show(cur,\n",
    "                 '''\n",
    "                 DROP TABLE Customers;\n",
    "                 ''')"
   ]
  },
  {
   "cell_type": "code",
   "execution_count": null,
   "metadata": {},
   "outputs": [],
   "source": [
    "execute_and_show(cur,\n",
    "                 '''\n",
    "                 SELECT * FROM Customers;\n",
    "                 ''')"
   ]
  },
  {
   "cell_type": "code",
   "execution_count": null,
   "metadata": {},
   "outputs": [],
   "source": [
    "# close updated database\n",
    "conn.close()"
   ]
  },
  {
   "cell_type": "code",
   "execution_count": null,
   "metadata": {},
   "outputs": [],
   "source": [
    "# restore database\n",
    "!rm northwind.db\n",
    "!cp northwind_original.db northwind.db"
   ]
  },
  {
   "cell_type": "code",
   "execution_count": null,
   "metadata": {},
   "outputs": [],
   "source": [
    "# reconnect database\n",
    "conn, cur = connect_example_db()"
   ]
  },
  {
   "cell_type": "markdown",
   "metadata": {},
   "source": [
    "# SQL TOP, LIMIT, FETCH FIRST or ROWNUM\n",
    "\n",
    "- `TOP`\n",
    "    - SQL Server, MS Access 지원\n",
    "- `LIMIT`\n",
    "    - MySQL, SQLite 지원\n",
    "- `FETCH FIRST`\n",
    "    - Oracle 12 지원\n",
    "- `ROWNUM`\n",
    "    - Oracle 버전 지원\n",
    "    - 12 버전 이전 방식"
   ]
  },
  {
   "cell_type": "code",
   "execution_count": null,
   "metadata": {},
   "outputs": [],
   "source": [
    "execute_and_show(cur,\n",
    "                 '''\n",
    "                 SELECT * FROM Customers\n",
    "                 LIMIT 3;\n",
    "                 ''')"
   ]
  },
  {
   "cell_type": "code",
   "execution_count": null,
   "metadata": {},
   "outputs": [],
   "source": [
    "# ADD a WHERE clause\n",
    "execute_and_show(cur,\n",
    "                 '''\n",
    "                 SELECT * FROM Customers\n",
    "                 WHERE Country='Germany'\n",
    "                 LIMIT 3;\n",
    "                 ''')"
   ]
  },
  {
   "cell_type": "code",
   "execution_count": null,
   "metadata": {},
   "outputs": [],
   "source": [
    "# add the ORDER BY keyword\n",
    "execute_and_show(cur,\n",
    "                 '''\n",
    "                 SELECT * FROM Customers\n",
    "                 ORDER BY CompanyName DESC\n",
    "                 LIMIT 3;\n",
    "                 ''')"
   ]
  },
  {
   "cell_type": "markdown",
   "metadata": {},
   "source": [
    "# SQL MIN and MAX"
   ]
  },
  {
   "cell_type": "code",
   "execution_count": null,
   "metadata": {},
   "outputs": [],
   "source": [
    "execute_and_show(cur,\n",
    "                 '''\n",
    "                 SELECT MIN(UnitPrice)\n",
    "                 FROM Products;\n",
    "                 ''')"
   ]
  },
  {
   "cell_type": "code",
   "execution_count": null,
   "metadata": {},
   "outputs": [],
   "source": [
    "execute_and_show(cur,\n",
    "                 '''\n",
    "                 SELECT MAX(UnitPrice)\n",
    "                 FROM Products;\n",
    "                 ''')"
   ]
  },
  {
   "cell_type": "code",
   "execution_count": null,
   "metadata": {},
   "outputs": [],
   "source": [
    "# set column name\n",
    "execute_and_show(cur,\n",
    "                 '''\n",
    "                 SELECT MIN(UnitPrice) AS SmallestPrice\n",
    "                 FROM Products;\n",
    "                 ''')"
   ]
  },
  {
   "cell_type": "code",
   "execution_count": null,
   "metadata": {},
   "outputs": [],
   "source": [
    "# use MIN with GROUP BY\n",
    "execute_and_show(cur,\n",
    "                 '''\n",
    "                 SELECT MIN(UnitPrice) AS SmallestPrice, CategoryID\n",
    "                 FROM Products\n",
    "                 GROUP BY CategoryID;\n",
    "                 ''')"
   ]
  },
  {
   "cell_type": "markdown",
   "metadata": {},
   "source": [
    "# SQL COUNT"
   ]
  },
  {
   "cell_type": "code",
   "execution_count": null,
   "metadata": {},
   "outputs": [],
   "source": [
    "execute_and_show(cur,\n",
    "                 '''\n",
    "                 SELECT COUNT(*)\n",
    "                 FROM Products;\n",
    "                 ''')"
   ]
  },
  {
   "cell_type": "code",
   "execution_count": null,
   "metadata": {},
   "outputs": [],
   "source": [
    "# specify column\n",
    "execute_and_show(cur,\n",
    "                 '''\n",
    "                 SELECT COUNT(ProductName)\n",
    "                 FROM Products;\n",
    "                 ''')"
   ]
  },
  {
   "cell_type": "code",
   "execution_count": null,
   "metadata": {},
   "outputs": [],
   "source": [
    "# add a WHERE clause\n",
    "execute_and_show(cur,\n",
    "                 '''\n",
    "                 SELECT COUNT(ProductID)\n",
    "                 FROM Products\n",
    "                 WHERE UnitPrice > 20;\n",
    "                 ''')"
   ]
  },
  {
   "cell_type": "code",
   "execution_count": null,
   "metadata": {},
   "outputs": [],
   "source": [
    "# ignore duplicates\n",
    "execute_and_show(cur,\n",
    "                 '''\n",
    "                 SELECT COUNT(DISTINCT UnitPrice)\n",
    "                 FROM Products;\n",
    "                 ''')"
   ]
  },
  {
   "cell_type": "code",
   "execution_count": null,
   "metadata": {},
   "outputs": [],
   "source": [
    "# use an alias\n",
    "execute_and_show(cur,\n",
    "                 '''\n",
    "                 SELECT COUNT(*) AS [Number of records]\n",
    "                 FROM Products;\n",
    "                 ''')"
   ]
  },
  {
   "cell_type": "code",
   "execution_count": null,
   "metadata": {},
   "outputs": [],
   "source": [
    "# use COUNT with GROUP BY\n",
    "execute_and_show(cur,\n",
    "                 '''\n",
    "                 SELECT COUNT(*) AS [Number of records], CategoryID\n",
    "                 FROM Products\n",
    "                 GROUP BY CategoryID;\n",
    "                 ''')"
   ]
  },
  {
   "cell_type": "markdown",
   "metadata": {},
   "source": [
    "# SQL SUM"
   ]
  },
  {
   "cell_type": "code",
   "execution_count": null,
   "metadata": {},
   "outputs": [],
   "source": [
    "execute_and_show(cur,\n",
    "                 '''\n",
    "                 SELECT SUM(Quantity)\n",
    "                 FROM [Order Details];\n",
    "                 ''')"
   ]
  },
  {
   "cell_type": "code",
   "execution_count": null,
   "metadata": {},
   "outputs": [],
   "source": [
    "# add a WHERE clause\n",
    "execute_and_show(cur,\n",
    "                 '''\n",
    "                 SELECT SUM(Quantity)\n",
    "                 FROM [Order Details]\n",
    "                 WHERE ProductID=11;\n",
    "                 ''')"
   ]
  },
  {
   "cell_type": "code",
   "execution_count": null,
   "metadata": {},
   "outputs": [],
   "source": [
    "# use an alias\n",
    "execute_and_show(cur,\n",
    "                 '''\n",
    "                 SELECT SUM(Quantity) AS total\n",
    "                 FROM [Order Details];\n",
    "                 ''')"
   ]
  },
  {
   "cell_type": "code",
   "execution_count": null,
   "metadata": {},
   "outputs": [],
   "source": [
    "# use SUM with GROUP BY\n",
    "# 결과가 너무 많은 관계로 일부 생략\n",
    "execute_and_show(cur,\n",
    "                 '''\n",
    "                 SELECT OrderID, SUM(Quantity) AS [Total Quantity]\n",
    "                 FROM [Order Details]\n",
    "                 GROUP BY OrderID\n",
    "                 LIMIT 20;\n",
    "                 ''')"
   ]
  },
  {
   "cell_type": "code",
   "execution_count": null,
   "metadata": {},
   "outputs": [],
   "source": [
    "# SUM with an expression\n",
    "execute_and_show(cur,\n",
    "                 '''\n",
    "                 SELECT SUM(Quantity * 10)\n",
    "                 FROM [Order Details];\n",
    "                 ''')"
   ]
  },
  {
   "cell_type": "code",
   "execution_count": null,
   "metadata": {},
   "outputs": [],
   "source": [
    "execute_and_show(cur,\n",
    "                 '''\n",
    "                 SELECT SUM(Products.UnitPrice * Quantity)\n",
    "                 FROM [Order Details]\n",
    "                 LEFT JOIN Products ON [Order Details].ProductID = Products.ProductID;\n",
    "                 ''')"
   ]
  },
  {
   "cell_type": "markdown",
   "metadata": {},
   "source": [
    "# SQL AVG"
   ]
  },
  {
   "cell_type": "code",
   "execution_count": null,
   "metadata": {},
   "outputs": [],
   "source": [
    "execute_and_show(cur,\n",
    "                 '''\n",
    "                 SELECT AVG(UnitPrice)\n",
    "                 FROM Products;\n",
    "                 ''')"
   ]
  },
  {
   "cell_type": "code",
   "execution_count": null,
   "metadata": {},
   "outputs": [],
   "source": [
    "# add a WHERE clause\n",
    "execute_and_show(cur,\n",
    "                 '''\n",
    "                 SELECT AVG(UnitPrice)\n",
    "                 FROM Products\n",
    "                 WHERE CategoryID = 1;\n",
    "                 ''')"
   ]
  },
  {
   "cell_type": "code",
   "execution_count": null,
   "metadata": {},
   "outputs": [],
   "source": [
    "# use an Alias\n",
    "execute_and_show(cur,\n",
    "                 '''\n",
    "                 SELECT AVG(UnitPrice) AS [average price]\n",
    "                 FROM Products;\n",
    "                 ''')"
   ]
  },
  {
   "cell_type": "code",
   "execution_count": null,
   "metadata": {},
   "outputs": [],
   "source": [
    "# higher than average\n",
    "execute_and_show(cur,\n",
    "                 '''\n",
    "                 SELECT * FROM Products\n",
    "                 WHERE UnitPrice > (SELECT AVG(UnitPrice) FROM Products);\n",
    "                 ''')"
   ]
  },
  {
   "cell_type": "code",
   "execution_count": null,
   "metadata": {},
   "outputs": [],
   "source": [
    "# use AVG with GROUP BY\n",
    "execute_and_show(cur,\n",
    "                 '''\n",
    "                 SELECT AVG(UnitPrice) AS AveragePrice, CategoryID\n",
    "                 FROM Products\n",
    "                 GROUP By CategoryID;\n",
    "                 ''')"
   ]
  },
  {
   "cell_type": "markdown",
   "metadata": {},
   "source": [
    "# SQL LIKE"
   ]
  },
  {
   "cell_type": "code",
   "execution_count": null,
   "metadata": {},
   "outputs": [],
   "source": [
    "execute_and_show(cur,\n",
    "                 '''\n",
    "                 SELECT * FROM Customers\n",
    "                 WHERE CompanyName LIKE 'a%';\n",
    "                 ''')"
   ]
  },
  {
   "cell_type": "code",
   "execution_count": null,
   "metadata": {},
   "outputs": [],
   "source": [
    "# _ wildcard\n",
    "execute_and_show(cur,\n",
    "                 '''\n",
    "                 SELECT * FROM Customers\n",
    "                 WHERE City LIKE 'L_nd__';\n",
    "                 ''')"
   ]
  },
  {
   "cell_type": "code",
   "execution_count": null,
   "metadata": {},
   "outputs": [],
   "source": [
    "# % wildcard\n",
    "execute_and_show(cur,\n",
    "                 '''\n",
    "                 SELECT * FROM Customers\n",
    "                 WHERE City LIKE '%L%';\n",
    "                 ''')"
   ]
  },
  {
   "cell_type": "code",
   "execution_count": null,
   "metadata": {},
   "outputs": [],
   "source": [
    "# starts with\n",
    "execute_and_show(cur,\n",
    "                 '''\n",
    "                 SELECT * FROM Customers\n",
    "                 WHERE CompanyName LIKE 'La%';\n",
    "                 ''')"
   ]
  },
  {
   "cell_type": "code",
   "execution_count": null,
   "metadata": {},
   "outputs": [],
   "source": [
    "execute_and_show(cur,\n",
    "                 '''\n",
    "                 SELECT * FROM Customers\n",
    "                 WHERE CompanyName LIKE 'a%' OR CompanyName LIKE 'b%';\n",
    "                 ''')"
   ]
  },
  {
   "cell_type": "code",
   "execution_count": null,
   "metadata": {},
   "outputs": [],
   "source": [
    "# ends with\n",
    "execute_and_show(cur,\n",
    "                 '''\n",
    "                 SELECT * FROM Customers\n",
    "                 WHERE CompanyName LIKE '%a';\n",
    "                 ''')"
   ]
  },
  {
   "cell_type": "code",
   "execution_count": null,
   "metadata": {},
   "outputs": [],
   "source": [
    "execute_and_show(cur,\n",
    "                 '''\n",
    "                 SELECT * FROM Customers\n",
    "                 WHERE CompanyName LIKE 'b%s';\n",
    "                 ''')"
   ]
  },
  {
   "cell_type": "code",
   "execution_count": null,
   "metadata": {},
   "outputs": [],
   "source": [
    "# contains\n",
    "execute_and_show(cur,\n",
    "                 '''\n",
    "                 SELECT * FROM Customers\n",
    "                 WHERE CompanyName LIKE '%or%';\n",
    "                 ''')"
   ]
  },
  {
   "cell_type": "code",
   "execution_count": null,
   "metadata": {},
   "outputs": [],
   "source": [
    "# combine wildcard\n",
    "execute_and_show(cur,\n",
    "                 '''\n",
    "                 SELECT * FROM Customers\n",
    "                 WHERE CompanyName LIKE 'a__%';\n",
    "                 ''')"
   ]
  },
  {
   "cell_type": "code",
   "execution_count": null,
   "metadata": {},
   "outputs": [],
   "source": [
    "execute_and_show(cur,\n",
    "                 '''\n",
    "                 SELECT * FROM Customers\n",
    "                 WHERE CompanyName LIKE '_r%';\n",
    "                 ''')"
   ]
  },
  {
   "cell_type": "code",
   "execution_count": null,
   "metadata": {},
   "outputs": [],
   "source": [
    "# without wildcard\n",
    "execute_and_show(cur,\n",
    "                 '''\n",
    "                 SELECT * FROM Customers\n",
    "                 WHERE Country LIKE 'Spain';\n",
    "                 ''')"
   ]
  },
  {
   "cell_type": "markdown",
   "metadata": {},
   "source": [
    "# SQL Wildcard"
   ]
  },
  {
   "cell_type": "code",
   "execution_count": null,
   "metadata": {},
   "outputs": [],
   "source": [
    "execute_and_show(cur,\n",
    "                 '''\n",
    "                 SELECT * FROM Customers\n",
    "                 WHERE CompanyName LIKE 'a%';\n",
    "                 ''')"
   ]
  },
  {
   "cell_type": "code",
   "execution_count": null,
   "metadata": {},
   "outputs": [],
   "source": [
    "execute_and_show(cur,\n",
    "                 '''\n",
    "                 SELECT * FROM Customers\n",
    "                 WHERE CompanyName LIKE '%es';\n",
    "                 ''')"
   ]
  },
  {
   "cell_type": "code",
   "execution_count": null,
   "metadata": {},
   "outputs": [],
   "source": [
    "execute_and_show(cur,\n",
    "                 '''\n",
    "                 SELECT * FROM Customers\n",
    "                 WHERE CompanyName LIKE '%mer%';\n",
    "                 ''')"
   ]
  },
  {
   "cell_type": "code",
   "execution_count": null,
   "metadata": {},
   "outputs": [],
   "source": [
    "execute_and_show(cur,\n",
    "                 '''\n",
    "                 SELECT * FROM Customers\n",
    "                 WHERE City LIKE '_ondon';\n",
    "                 ''')"
   ]
  },
  {
   "cell_type": "code",
   "execution_count": null,
   "metadata": {},
   "outputs": [],
   "source": [
    "execute_and_show(cur,\n",
    "                 '''\n",
    "                 SELECT * FROM Customers\n",
    "                 WHERE City LIKE 'L___on';\n",
    "                 ''')"
   ]
  },
  {
   "cell_type": "markdown",
   "metadata": {},
   "source": [
    "# SQL IN"
   ]
  },
  {
   "cell_type": "code",
   "execution_count": null,
   "metadata": {},
   "outputs": [],
   "source": [
    "execute_and_show(cur,\n",
    "                 '''\n",
    "                 SELECT * FROM Customers\n",
    "                 WHERE Country IN ('Germany', 'France', 'UK');\n",
    "                 ''')"
   ]
  },
  {
   "cell_type": "code",
   "execution_count": null,
   "metadata": {},
   "outputs": [],
   "source": [
    "# NOT IN\n",
    "execute_and_show(cur,\n",
    "                 '''\n",
    "                 SELECT * FROM Customers\n",
    "                 WHERE Country NOT IN ('Germany', 'France', 'UK');\n",
    "                 ''')"
   ]
  },
  {
   "cell_type": "code",
   "execution_count": null,
   "metadata": {},
   "outputs": [],
   "source": [
    "# IN (SELECT)\n",
    "execute_and_show(cur,\n",
    "                 '''\n",
    "                 SELECT * FROM Customers\n",
    "                 WHERE CustomerID IN (SELECT CustomerID FROM Orders);\n",
    "                 ''')"
   ]
  },
  {
   "cell_type": "code",
   "execution_count": null,
   "metadata": {},
   "outputs": [],
   "source": [
    "# NOT IN (SELECT)\n",
    "execute_and_show(cur,\n",
    "                 '''\n",
    "                 SELECT * FROM Customers\n",
    "                 WHERE CustomerID NOT IN (SELECT CustomerID FROM Orders);\n",
    "                 ''')"
   ]
  },
  {
   "cell_type": "markdown",
   "metadata": {},
   "source": [
    "# SQL BETWEEN"
   ]
  },
  {
   "cell_type": "code",
   "execution_count": null,
   "metadata": {},
   "outputs": [],
   "source": [
    "execute_and_show(cur,\n",
    "                 '''\n",
    "                 SELECT * FROM Products\n",
    "                 WHERE UnitPrice BETWEEN 10 AND 20;\n",
    "                 ''')"
   ]
  },
  {
   "cell_type": "code",
   "execution_count": null,
   "metadata": {},
   "outputs": [],
   "source": [
    "# NOT BETWEEN\n",
    "execute_and_show(cur,\n",
    "                 '''\n",
    "                 SELECT * FROM Products\n",
    "                 WHERE UnitPrice NOT BETWEEN 10 AND 20;\n",
    "                 ''')"
   ]
  },
  {
   "cell_type": "code",
   "execution_count": null,
   "metadata": {},
   "outputs": [],
   "source": [
    "# BETWEEN with IN\n",
    "execute_and_show(cur,\n",
    "                 '''\n",
    "                 SELECT * FROM Products\n",
    "                 WHERE UnitPrice BETWEEN 10 AND 20\n",
    "                 AND CategoryID IN (1, 2, 3);\n",
    "                 ''')"
   ]
  },
  {
   "cell_type": "code",
   "execution_count": null,
   "metadata": {},
   "outputs": [],
   "source": [
    "# BETWEEN text values (alphabetical order)\n",
    "execute_and_show(cur,\n",
    "                 '''\n",
    "                 SELECT * FROM Products\n",
    "                 WHERE ProductName BETWEEN 'Carnarvon Tigers' AND 'Mozzarella di Giovanni'\n",
    "                 ORDER BY ProductName;\n",
    "                 ''')"
   ]
  },
  {
   "cell_type": "code",
   "execution_count": null,
   "metadata": {},
   "outputs": [],
   "source": [
    "execute_and_show(cur,\n",
    "                 '''\n",
    "                 SELECT * FROM Products\n",
    "                 WHERE ProductName BETWEEN \"Carnarvon Tigers\" AND \"Chef Anton's Cajun Seasoning\"\n",
    "                 ORDER BY ProductName;\n",
    "                 ''')"
   ]
  },
  {
   "cell_type": "code",
   "execution_count": null,
   "metadata": {},
   "outputs": [],
   "source": [
    "# NOT BETWEEN text values\n",
    "execute_and_show(cur,\n",
    "                 '''\n",
    "                 SELECT * FROM Products\n",
    "                 WHERE ProductName NOT BETWEEN 'Carnarvon Tigers' AND 'Mozzarella di Giovanni'\n",
    "                 ORDER BY ProductName;\n",
    "                 ''')"
   ]
  },
  {
   "cell_type": "code",
   "execution_count": null,
   "metadata": {},
   "outputs": [],
   "source": [
    "# BETWEEN dates\n",
    "execute_and_show(cur,\n",
    "                 '''\n",
    "                 SELECT * FROM Orders\n",
    "                 WHERE OrderDate BETWEEN '2016-07-01' AND '2016-07-31';\n",
    "                 ''')"
   ]
  },
  {
   "cell_type": "markdown",
   "metadata": {},
   "source": [
    "# SQL Aliases"
   ]
  },
  {
   "cell_type": "code",
   "execution_count": null,
   "metadata": {},
   "outputs": [],
   "source": [
    "execute_and_show(cur,\n",
    "                 '''\n",
    "                 SELECT CustomerID AS ID\n",
    "                 FROM Customers;\n",
    "                 ''')"
   ]
  },
  {
   "cell_type": "code",
   "execution_count": null,
   "metadata": {},
   "outputs": [],
   "source": [
    "execute_and_show(cur,\n",
    "                 '''\n",
    "                 SELECT CustomerID ID\n",
    "                 FROM Customers;\n",
    "                 ''')"
   ]
  },
  {
   "cell_type": "code",
   "execution_count": null,
   "metadata": {},
   "outputs": [],
   "source": [
    "# alias for columns\n",
    "execute_and_show(cur,\n",
    "                 '''\n",
    "                 SELECT CustomerID AS ID, CompanyName AS Customer\n",
    "                 FROM Customers;\n",
    "                 ''')"
   ]
  },
  {
   "cell_type": "code",
   "execution_count": null,
   "metadata": {},
   "outputs": [],
   "source": [
    "# using aliases with a space character\n",
    "execute_and_show(cur,\n",
    "                 '''\n",
    "                 SELECT ProductName AS [My Great Products]\n",
    "                 FROM Products;\n",
    "                 ''')"
   ]
  },
  {
   "cell_type": "code",
   "execution_count": null,
   "metadata": {},
   "outputs": [],
   "source": [
    "execute_and_show(cur,\n",
    "                 '''\n",
    "                 SELECT ProductName AS \"My Great Products\"\n",
    "                 FROM Products;\n",
    "                 ''')"
   ]
  },
  {
   "cell_type": "code",
   "execution_count": null,
   "metadata": {},
   "outputs": [],
   "source": [
    "# concatenate columns\n",
    "execute_and_show(cur,\n",
    "                 '''\n",
    "                 SELECT CompanyName, Address || ', ' || PostalCode || ' ' || City || ', ' || Country AS Address\n",
    "                 FROM Customers;\n",
    "                 ''')"
   ]
  },
  {
   "cell_type": "code",
   "execution_count": null,
   "metadata": {},
   "outputs": [],
   "source": [
    "# alias for tables\n",
    "execute_and_show(cur,\n",
    "                 '''\n",
    "                 SELECT * FROM Customers AS Persons;\n",
    "                 ''')"
   ]
  },
  {
   "cell_type": "code",
   "execution_count": null,
   "metadata": {},
   "outputs": [],
   "source": [
    "execute_and_show(cur,\n",
    "                 '''\n",
    "                 SELECT o.OrderID, o.OrderDate, c.CompanyName\n",
    "                 FROM Customers AS c, Orders AS o\n",
    "                 WHERE c.CompanyName='Around the Horn' AND c.CustomerID=o.CustomerID;\n",
    "                 ''')"
   ]
  },
  {
   "cell_type": "code",
   "execution_count": null,
   "metadata": {},
   "outputs": [],
   "source": [
    "# same result as above, but without aliases\n",
    "execute_and_show(cur,\n",
    "                 '''\n",
    "                 SELECT Orders.OrderID, Orders.OrderDate, Customers.CompanyName\n",
    "                 FROM Customers, Orders\n",
    "                 WHERE Customers.CompanyName='Around the Horn' AND Customers.CustomerID=Orders.CustomerID;\n",
    "                 ''')"
   ]
  },
  {
   "cell_type": "markdown",
   "metadata": {},
   "source": [
    "# SQL JOIN"
   ]
  },
  {
   "cell_type": "code",
   "execution_count": null,
   "metadata": {},
   "outputs": [],
   "source": [
    "# 결과가 너무 큰 관계로 일부 생략\n",
    "execute_and_show(cur,\n",
    "                 '''\n",
    "                 SELECT Orders.OrderID, Customers.CompanyName, Orders.OrderDate\n",
    "                 FROM Orders\n",
    "                 INNER JOIN Customers ON Orders.CustomerID=Customers.CustomerID\n",
    "                 LIMIT 20;\n",
    "                 ''')"
   ]
  },
  {
   "cell_type": "markdown",
   "metadata": {},
   "source": [
    "# SQL INNER JOIN"
   ]
  },
  {
   "cell_type": "code",
   "execution_count": null,
   "metadata": {},
   "outputs": [],
   "source": [
    "execute_and_show(cur,\n",
    "                 '''\n",
    "                 SELECT ProductID, ProductName, CategoryName\n",
    "                 FROM Products\n",
    "                 INNER JOIN Categories ON Products.CategoryID=Categories.CategoryID;\n",
    "                 ''')"
   ]
  },
  {
   "cell_type": "code",
   "execution_count": null,
   "metadata": {},
   "outputs": [],
   "source": [
    "# naming the columns\n",
    "execute_and_show(cur,\n",
    "                 '''\n",
    "                 SELECT Products.ProductID, Products.ProductName, Categories.CategoryName\n",
    "                 FROM Products\n",
    "                 INNER JOIN Categories ON Products.CategoryID=Categories.CategoryID;\n",
    "                 ''')"
   ]
  },
  {
   "cell_type": "code",
   "execution_count": null,
   "metadata": {},
   "outputs": [],
   "source": [
    "# JOIN or INNER JOIN\n",
    "execute_and_show(cur,\n",
    "                 '''\n",
    "                 SELECT Products.ProductID, Products.ProductName, Categories.CategoryName\n",
    "                 FROM Products\n",
    "                 JOIN Categories ON Products.CategoryID = Categories.CategoryID;\n",
    "                 ''')"
   ]
  },
  {
   "cell_type": "code",
   "execution_count": null,
   "metadata": {},
   "outputs": [],
   "source": [
    "# JOIN three tables\n",
    "# 결과가 너무 큰 관계로 일부 생략\n",
    "execute_and_show(cur,\n",
    "                 '''\n",
    "                 SELECT Orders.OrderID, Customers.CompanyName, Shippers.CompanyName\n",
    "                 FROM ((Orders\n",
    "                 INNER JOIN Customers ON Orders.CustomerID = Customers.CustomerID)\n",
    "                 INNER JOIN Shippers ON Orders.ShipVia = Shippers.ShipperID)\n",
    "                 LIMIT 20;\n",
    "                 ''')"
   ]
  },
  {
   "cell_type": "markdown",
   "metadata": {},
   "source": [
    "# SQL LEFT JOIN"
   ]
  },
  {
   "cell_type": "code",
   "execution_count": null,
   "metadata": {},
   "outputs": [],
   "source": [
    "# 결과가 너무 많은 관계로 일부 생략\n",
    "execute_and_show(cur,\n",
    "                 '''\n",
    "                 SELECT Customers.CompanyName, Orders.OrderID\n",
    "                 FROM Customers\n",
    "                 LEFT JOIN Orders ON Customers.CustomerID = Orders.CustomerID\n",
    "                 ORDER BY Customers.CompanyName\n",
    "                 LIMIT 20;\n",
    "                 ''')"
   ]
  },
  {
   "cell_type": "markdown",
   "metadata": {},
   "source": [
    "# SQL RIGHT JOIN"
   ]
  },
  {
   "cell_type": "code",
   "execution_count": null,
   "metadata": {},
   "outputs": [],
   "source": [
    "# 결과가 많은 관계로 일부 생략\n",
    "execute_and_show(cur,\n",
    "                 '''\n",
    "                 SELECT Orders.OrderID, Employees.LastName, Employees.FirstName\n",
    "                 FROM Orders\n",
    "                 RIGHT JOIN Employees ON Orders.EmployeeID = Employees.EmployeeID\n",
    "                 ORDER BY Orders.OrderID\n",
    "                 LIMIT 20;\n",
    "                 ''')"
   ]
  },
  {
   "cell_type": "markdown",
   "metadata": {},
   "source": [
    "# SQL FULL OUTER JOIN"
   ]
  },
  {
   "cell_type": "code",
   "execution_count": null,
   "metadata": {},
   "outputs": [],
   "source": [
    "# 결과가 너무 많은 관계로 일부 생략\n",
    "execute_and_show(cur,\n",
    "                 '''\n",
    "                 SELECT Customers.CompanyName, Orders.OrderID\n",
    "                 FROM Customers\n",
    "                 FULL OUTER JOIN Orders ON Customers.CustomerID = Orders.CustomerID\n",
    "                 ORDER BY Customers.CompanyName\n",
    "                 LIMIT 20;\n",
    "                 ''')"
   ]
  },
  {
   "cell_type": "markdown",
   "metadata": {},
   "source": [
    "# SQL Self Join"
   ]
  },
  {
   "cell_type": "code",
   "execution_count": null,
   "metadata": {},
   "outputs": [],
   "source": [
    "execute_and_show(cur,\n",
    "                 '''\n",
    "                 SELECT A.CompanyName AS CustomerName1, B.CompanyName AS CustomerName2, A.City\n",
    "                 FROM Customers A, Customers B\n",
    "                 WHERE A.CustomerID <> B.CustomerID\n",
    "                 AND A.City = B.City\n",
    "                 ORDER BY A.City;\n",
    "                 ''')"
   ]
  },
  {
   "cell_type": "markdown",
   "metadata": {},
   "source": [
    "# SQL UNION"
   ]
  },
  {
   "cell_type": "code",
   "execution_count": null,
   "metadata": {},
   "outputs": [],
   "source": [
    "execute_and_show(cur,\n",
    "                 '''\n",
    "                 SELECT City FROM Customers\n",
    "                 UNION\n",
    "                 SELECT City FROM Suppliers\n",
    "                 ORDER BY City;\n",
    "                 ''')"
   ]
  },
  {
   "cell_type": "code",
   "execution_count": null,
   "metadata": {},
   "outputs": [],
   "source": [
    "# UNION ALL\n",
    "execute_and_show(cur,\n",
    "                 '''\n",
    "                 SELECT City FROM Customers\n",
    "                 UNION ALL\n",
    "                 SELECT City FROM Suppliers\n",
    "                 ORDER BY City;\n",
    "                 ''')"
   ]
  },
  {
   "cell_type": "code",
   "execution_count": null,
   "metadata": {},
   "outputs": [],
   "source": [
    "# UNION with WHERE\n",
    "execute_and_show(cur,\n",
    "                 '''\n",
    "                 SELECT City, Country FROM Customers\n",
    "                 WHERE Country='Germany'\n",
    "                 UNION\n",
    "                 SELECT City, Country FROM Suppliers\n",
    "                 WHERE Country='Germany'\n",
    "                 ORDER BY City;\n",
    "                 ''')"
   ]
  },
  {
   "cell_type": "code",
   "execution_count": null,
   "metadata": {},
   "outputs": [],
   "source": [
    "# UNION ALL with WHERE\n",
    "execute_and_show(cur,\n",
    "                 '''\n",
    "                 SELECT City, Country FROM Customers\n",
    "                 WHERE Country='Germany'\n",
    "                 UNION ALL\n",
    "                 SELECT City, Country FROM Suppliers\n",
    "                 WHERE Country='Germany'\n",
    "                 ORDER BY City;\n",
    "                 ''')"
   ]
  },
  {
   "cell_type": "code",
   "execution_count": null,
   "metadata": {},
   "outputs": [],
   "source": [
    "execute_and_show(cur,\n",
    "                 '''\n",
    "                 SELECT 'Customer' AS Type, ContactName, City, Country\n",
    "                 FROM Customers\n",
    "                 UNION\n",
    "                 SELECT 'Supplier', ContactName, City, Country\n",
    "                 FROM Suppliers;\n",
    "                 ''')"
   ]
  },
  {
   "cell_type": "markdown",
   "metadata": {},
   "source": [
    "# SQL GROUP BY"
   ]
  },
  {
   "cell_type": "code",
   "execution_count": null,
   "metadata": {},
   "outputs": [],
   "source": [
    "execute_and_show(cur,\n",
    "                 '''\n",
    "                 SELECT COUNT(CustomerID), Country\n",
    "                 FROM Customers\n",
    "                 GROUP BY Country;\n",
    "                 ''')"
   ]
  },
  {
   "cell_type": "code",
   "execution_count": null,
   "metadata": {},
   "outputs": [],
   "source": [
    "execute_and_show(cur,\n",
    "                 '''\n",
    "                 SELECT COUNT(CustomerID), Country\n",
    "                 FROM Customers\n",
    "                 GROUP BY Country\n",
    "                 Order BY COUNT(CustomerID) DESC;\n",
    "                 ''')"
   ]
  },
  {
   "cell_type": "code",
   "execution_count": null,
   "metadata": {},
   "outputs": [],
   "source": [
    "# GROUP BY with JOIN\n",
    "execute_and_show(cur,\n",
    "                 '''\n",
    "                 SELECT Shippers.CompanyName, COUNT(Orders.OrderID) AS NumberOfOrders FROM Orders\n",
    "                 LEFT JOIN Shippers ON Orders.ShipVia = Shippers.ShipperID\n",
    "                 GROUP BY CompanyName;\n",
    "                 ''')"
   ]
  },
  {
   "cell_type": "markdown",
   "metadata": {},
   "source": [
    "# SQL HAVING"
   ]
  },
  {
   "cell_type": "code",
   "execution_count": null,
   "metadata": {},
   "outputs": [],
   "source": [
    "execute_and_show(cur,\n",
    "                 '''\n",
    "                 SELECT COUNT(CustomerID), Country\n",
    "                 FROM Customers\n",
    "                 GROUP BY Country\n",
    "                 HAVING COUNT(CustomerID) > 5;\n",
    "                 ''')"
   ]
  },
  {
   "cell_type": "code",
   "execution_count": null,
   "metadata": {},
   "outputs": [],
   "source": [
    "execute_and_show(cur,\n",
    "                 '''\n",
    "                 SELECT COUNT(CustomerID), Country\n",
    "                 FROM Customers\n",
    "                 GROUP BY Country\n",
    "                 HAVING COUNT(CustomerID) > 5\n",
    "                 ORDER BY COUNT(CustomerID) DESC;\n",
    "                 ''')"
   ]
  },
  {
   "cell_type": "code",
   "execution_count": null,
   "metadata": {},
   "outputs": [],
   "source": [
    "execute_and_show(cur,\n",
    "                 '''\n",
    "                 SELECT Employees.LastName, COUNT(Orders.OrderID) AS NumberOfOrders\n",
    "                 FROM (Orders\n",
    "                 INNER JOIN Employees ON Orders.EmployeeID = Employees.EmployeeID)\n",
    "                 GROUP BY LastName\n",
    "                 HAVING COUNT(Orders.OrderID) > 10;\n",
    "                 ''')"
   ]
  },
  {
   "cell_type": "code",
   "execution_count": null,
   "metadata": {},
   "outputs": [],
   "source": [
    "execute_and_show(cur,\n",
    "                 '''\n",
    "                 SELECT Employees.LastName, COUNT(Orders.OrderID) AS NumberOfOrders\n",
    "                 FROM Orders\n",
    "                 INNER JOIN Employees ON Orders.EmployeeID = Employees.EmployeeID\n",
    "                 WHERE LastName = 'Davolio' OR LastName = 'Fuller'\n",
    "                 GROUP BY LastName\n",
    "                 HAVING COUNT(Orders.OrderID) > 25;\n",
    "                 ''')"
   ]
  },
  {
   "cell_type": "markdown",
   "metadata": {},
   "source": [
    "# SQL EXISTS"
   ]
  },
  {
   "cell_type": "code",
   "execution_count": null,
   "metadata": {},
   "outputs": [],
   "source": [
    "execute_and_show(cur,\n",
    "                 '''\n",
    "                 SELECT CompanyName\n",
    "                 FROM Suppliers\n",
    "                 WHERE EXISTS (SELECT ProductName FROM Products WHERE Products.SupplierID = Suppliers.SupplierID AND UnitPrice < 20);\n",
    "                 ''')"
   ]
  },
  {
   "cell_type": "code",
   "execution_count": null,
   "metadata": {},
   "outputs": [],
   "source": [
    "execute_and_show(cur,\n",
    "                 '''\n",
    "                 SELECT CompanyName\n",
    "                 FROM Suppliers\n",
    "                 WHERE EXISTS (SELECT ProductName FROM Products WHERE Products.SupplierID = Suppliers.SupplierID AND UnitPrice = 22);\n",
    "                 ''')"
   ]
  },
  {
   "cell_type": "markdown",
   "metadata": {},
   "source": [
    "# SQL ANY and ALL\n",
    "\n",
    "- `ANY`\n",
    "    - SQLite에서는 미지원"
   ]
  },
  {
   "cell_type": "code",
   "execution_count": null,
   "metadata": {},
   "outputs": [],
   "source": [
    "# ProductID = ANY ... 대신 IN 연산자 사용\n",
    "execute_and_show(cur,\n",
    "                 '''\n",
    "                 SELECT ProductName\n",
    "                 FROM Products\n",
    "                 WHERE ProductID IN\n",
    "                    (SELECT ProductID\n",
    "                    FROM [Order Details]\n",
    "                    WHERE Quantity = 10);\n",
    "                 ''')"
   ]
  },
  {
   "cell_type": "code",
   "execution_count": null,
   "metadata": {},
   "outputs": [],
   "source": [
    "# ProductID = ANY ... 대신 IN 연산자 사용\n",
    "execute_and_show(cur,\n",
    "                 '''\n",
    "                 SELECT ProductName\n",
    "                 FROM Products\n",
    "                 WHERE ProductID IN\n",
    "                    (SELECT ProductID\n",
    "                    FROM [Order Details]\n",
    "                    WHERE Quantity > 99);\n",
    "                 ''')"
   ]
  },
  {
   "cell_type": "code",
   "execution_count": null,
   "metadata": {},
   "outputs": [],
   "source": [
    "execute_and_show(cur,\n",
    "                 '''\n",
    "                 SELECT ProductName\n",
    "                 FROM Products\n",
    "                 WHERE ProductID IN\n",
    "                    (SELECT ProductID\n",
    "                    FROM [Order Details]\n",
    "                    WHERE Quantity > 1000);\n",
    "                 ''')"
   ]
  },
  {
   "cell_type": "code",
   "execution_count": null,
   "metadata": {},
   "outputs": [],
   "source": [
    "# 일반 SELECT문과 동일\n",
    "execute_and_show(cur,\n",
    "                 '''\n",
    "                 SELECT ALL ProductName\n",
    "                 FROM Products\n",
    "                 WHERE True;\n",
    "                 ''')"
   ]
  },
  {
   "cell_type": "code",
   "execution_count": null,
   "metadata": {},
   "outputs": [],
   "source": [
    "# SQLite는 ALL를 지원하지 않아 다른 방식으로 대체\n",
    "execute_and_show(cur,\n",
    "                 '''\n",
    "                 SELECT ProductName, ProductID\n",
    "                 FROM Products P\n",
    "                 WHERE \n",
    "                    (SELECT COUNT(ProductID) FROM [Order Details] O WHERE O.Quantity = 10)\n",
    "                     = (SELECT COUNT(ProductID) FROM [Order Details] O WHERE O.Quantity = 10 AND O.ProductID <= P.ProductID);\n",
    "                 ''')"
   ]
  },
  {
   "cell_type": "code",
   "execution_count": null,
   "metadata": {},
   "outputs": [],
   "source": [
    "execute_and_show(cur,\n",
    "                 '''\n",
    "                 SELECT MAX(ProductID) FROM [Order Details] O WHERE O.Quantity = 10;\n",
    "                 ''')"
   ]
  },
  {
   "cell_type": "markdown",
   "metadata": {},
   "source": [
    "# SQL SELECT INTO"
   ]
  },
  {
   "cell_type": "code",
   "execution_count": null,
   "metadata": {},
   "outputs": [],
   "source": [
    "execute_and_show(cur,\n",
    "                 '''\n",
    "                 CREATE TABLE CustomersBackup2017 AS SELECT * FROM Customers;\n",
    "                 ''')"
   ]
  },
  {
   "cell_type": "code",
   "execution_count": null,
   "metadata": {},
   "outputs": [],
   "source": [
    "execute_and_show(cur,\n",
    "                 '''\n",
    "                 SELECT * FROM CustomersBackup2017 LIMIT 20;\n",
    "                 ''')"
   ]
  },
  {
   "cell_type": "code",
   "execution_count": null,
   "metadata": {},
   "outputs": [],
   "source": [
    "# SQLite에서 외부 데이터베이스의 테이블을 불러올 때는 SELECT INTO IN 문 대신 ATTACH DATABASE 사용\n",
    "execute_and_show(cur,\n",
    "                 '''\n",
    "                 ATTACH DATABASE 'northwind_bak.db' AS external_db;\n",
    "                 ''')\n",
    "\n",
    "execute_and_show(cur,\n",
    "                 '''\n",
    "                 CREATE TABLE ProductsBackup AS SELECT * FROM external_db.Products;\n",
    "                 ''')\n",
    "\n",
    "execute_and_show(cur,\n",
    "                 '''\n",
    "                 DETACH DATABASE external_db;\n",
    "                 ''')"
   ]
  },
  {
   "cell_type": "code",
   "execution_count": null,
   "metadata": {},
   "outputs": [],
   "source": [
    "execute_and_show(cur,\n",
    "                 '''\n",
    "                 SELECT * FROM ProductsBackup LIMIT 20;\n",
    "                 ''')"
   ]
  },
  {
   "cell_type": "code",
   "execution_count": null,
   "metadata": {},
   "outputs": [],
   "source": [
    "execute_and_show(cur,\n",
    "                 '''\n",
    "                 DROP TABLE CustomersBackup2017;\n",
    "                 ''')"
   ]
  },
  {
   "cell_type": "code",
   "execution_count": null,
   "metadata": {},
   "outputs": [],
   "source": [
    "# SELECT INTO with specific columns\n",
    "execute_and_show(cur,\n",
    "                 '''\n",
    "                 CREATE TABLE CustomersBackup2017 AS SELECT CompanyName, ContactName FROM Customers;\n",
    "                 ''')\n",
    "\n",
    "execute_and_show(cur,\n",
    "                 '''\n",
    "                 SELECT * FROM CustomersBackup2017 LIMIT 20;\n",
    "                 ''')"
   ]
  },
  {
   "cell_type": "code",
   "execution_count": null,
   "metadata": {},
   "outputs": [],
   "source": [
    "# with WHERE clause\n",
    "execute_and_show(cur,\n",
    "                 '''\n",
    "                 CREATE TABLE CustomersGermany\n",
    "                 AS SELECT * FROM Customers\n",
    "                 WHERE Country = 'Germany';\n",
    "                 ''')"
   ]
  },
  {
   "cell_type": "code",
   "execution_count": null,
   "metadata": {},
   "outputs": [],
   "source": [
    "execute_and_show(cur,\n",
    "                 '''\n",
    "                 SELECT * FROM CustomersGermany LIMIT 20;\n",
    "                 ''')"
   ]
  },
  {
   "cell_type": "code",
   "execution_count": null,
   "metadata": {},
   "outputs": [],
   "source": [
    "# with JOIN clause\n",
    "execute_and_show(cur,\n",
    "                 '''\n",
    "                 CREATE TABLE CustomersOrdersBackup2017\n",
    "                 AS SELECT Customers.CompanyName, Orders.OrderID\n",
    "                 FROM CustomerS\n",
    "                 LEFT JOIN Orders ON Customers.CustomerID = Orders.CustomerID;\n",
    "                 ''')"
   ]
  },
  {
   "cell_type": "code",
   "execution_count": null,
   "metadata": {},
   "outputs": [],
   "source": [
    "execute_and_show(cur,\n",
    "                 '''\n",
    "                 SELECT * FROM CustomersOrdersBackup2017 Limit 20;\n",
    "                 ''')"
   ]
  },
  {
   "cell_type": "code",
   "execution_count": null,
   "metadata": {},
   "outputs": [],
   "source": [
    "# create empty table with another schema\n",
    "execute_and_show(cur,\n",
    "                 '''\n",
    "                 CREATE TABLE NewTable\n",
    "                 AS SELECT *\n",
    "                 FROM Customers\n",
    "                 WHERE 1 = 0;\n",
    "                 ''')\n",
    "\n",
    "execute_and_show(cur,\n",
    "                 '''\n",
    "                 SELECT * FROM NewTable;\n",
    "                 ''')"
   ]
  },
  {
   "cell_type": "markdown",
   "metadata": {},
   "source": [
    "# SQL INSERT INTO SELECT"
   ]
  },
  {
   "cell_type": "code",
   "execution_count": null,
   "metadata": {},
   "outputs": [],
   "source": [
    "execute_and_show(cur,\n",
    "                 '''\n",
    "                 INSERT INTO Customers (CompanyName, City, Country)\n",
    "                 SELECT CompanyName, City, Country FROM Suppliers;\n",
    "                 ''')"
   ]
  },
  {
   "cell_type": "code",
   "execution_count": null,
   "metadata": {},
   "outputs": [],
   "source": [
    "execute_and_show(cur,\n",
    "                 '''\n",
    "                 INSERT INTO Customers (CompanyName, ContactName, Address, City, PostalCode, Country)\n",
    "                 SELECT CompanyName, ContactName, Address, City, PostalCode, Country FROM Suppliers;\n",
    "                 ''')"
   ]
  },
  {
   "cell_type": "code",
   "execution_count": null,
   "metadata": {},
   "outputs": [],
   "source": [
    "# with WHERE clause\n",
    "execute_and_show(cur,\n",
    "                 '''\n",
    "                 INSERT INTO Customers (CompanyName, City, Country)\n",
    "                 SELECT CompanyName, City, Country FROM Suppliers\n",
    "                 WHERE Country = 'Germany';\n",
    "                 ''')"
   ]
  },
  {
   "cell_type": "markdown",
   "metadata": {},
   "source": [
    "# SQL CASE"
   ]
  },
  {
   "cell_type": "code",
   "execution_count": null,
   "metadata": {},
   "outputs": [],
   "source": [
    "# use CASE as column\n",
    "execute_and_show(cur,\n",
    "                 '''\n",
    "                 SELECT OrderId, Quantity,\n",
    "                 CASE\n",
    "                    WHEN Quantity > 30 THEN 'The quantity is greater than 30'\n",
    "                    WHEN Quantity = 30 THEN 'The quantity is 30'\n",
    "                    ELSE 'The quantity is under 30'\n",
    "                 END AS QuantityText\n",
    "                 FROM [Order Details]\n",
    "                 LIMIT 20;\n",
    "                 ''')"
   ]
  },
  {
   "cell_type": "code",
   "execution_count": null,
   "metadata": {},
   "outputs": [],
   "source": [
    "# with ORDER BY\n",
    "execute_and_show(cur,\n",
    "                 '''\n",
    "                 SELECT CompanyName, City, Country\n",
    "                 FROM Customers\n",
    "                 ORDER BY\n",
    "                 (CASE\n",
    "                    WHEN City IS NULL THEN Country\n",
    "                    ELSE City\n",
    "                 END)\n",
    "                 LIMIT 30;\n",
    "                 ''')"
   ]
  },
  {
   "cell_type": "markdown",
   "metadata": {},
   "source": [
    "# SQL NULL"
   ]
  },
  {
   "cell_type": "code",
   "execution_count": null,
   "metadata": {},
   "outputs": [],
   "source": [
    "execute_and_show(cur,\n",
    "                 '''\n",
    "                 SELECT ProductName, UnitPrice * (UnitsInStock + IFNULL(UnitsOnOrder, 0))\n",
    "                 FROM Products\n",
    "                 LIMIT 20;\n",
    "                 ''')"
   ]
  },
  {
   "cell_type": "code",
   "execution_count": null,
   "metadata": {},
   "outputs": [],
   "source": [
    "execute_and_show(cur,\n",
    "                 '''\n",
    "                 SELECT ProductName, UnitPrice * (UnitsInStock + COALESCE(UnitsOnOrder, 0))\n",
    "                 FROM Products\n",
    "                 LIMIT 20;\n",
    "                 ''')"
   ]
  },
  {
   "cell_type": "markdown",
   "metadata": {},
   "source": [
    "# SQL Stored Procedure\n",
    "- SQLite에서는 Stored Procedure를 지원하지 않음, SQLite는 어플리케이션이 직접 SQL문을 바로 실행시킬수 있기 때문\n",
    "    - 다른 데이터베이스의 경우 어플리케이션과 DBMS가 분리되어 있는 경우가 있고, 여러 어플리케이션이 하나의 데이터베이스와 연길되는 경우가 많기 때문에 데이터베이스 단에서 자주 사용되는 쿼리들을 저장해둘 필요가 있다\n",
    "    - 하지만 SQLite는 이를 사용하는 어플리케이션과 통합되기 때문에 굳이 Stored Procedure를 필요로 하지 않는다\n",
    "        - SQLite와 통합된 어플리케이션은 여러 줄의 쿼리를 바로 보낼 수 있기 때문\n",
    "\n",
    "출처: https://github.com/aergoio/sqlite-stored-procedures"
   ]
  },
  {
   "cell_type": "code",
   "execution_count": null,
   "metadata": {},
   "outputs": [],
   "source": [
    "execute_and_show(cur,\n",
    "                 '''\n",
    "                 SELECT * FROM Customers LIMIT 20;\n",
    "                 ''')"
   ]
  },
  {
   "cell_type": "code",
   "execution_count": null,
   "metadata": {},
   "outputs": [],
   "source": [
    "# stored procedure with one parameter\n",
    "execute_and_show(cur,\n",
    "                 '''\n",
    "                 SELECT * FROM Customers WHERE City=?;\n",
    "                 ''',\n",
    "                 'London',\n",
    "                 )"
   ]
  },
  {
   "cell_type": "code",
   "execution_count": null,
   "metadata": {},
   "outputs": [],
   "source": [
    "# stored porcedure with multiple parameters\n",
    "execute_and_show(cur,\n",
    "                 '''\n",
    "                 SELECT * FROM Customers WHERE City=? AND PostalCode=?;\n",
    "                 ''',\n",
    "                 'London',\n",
    "                 'WA1 1DP'\n",
    "                 )"
   ]
  },
  {
   "cell_type": "code",
   "execution_count": null,
   "metadata": {},
   "outputs": [],
   "source": []
  }
 ],
 "metadata": {
  "kernelspec": {
   "display_name": ".venv",
   "language": "python",
   "name": "python3"
  },
  "language_info": {
   "codemirror_mode": {
    "name": "ipython",
    "version": 3
   },
   "file_extension": ".py",
   "mimetype": "text/x-python",
   "name": "python",
   "nbconvert_exporter": "python",
   "pygments_lexer": "ipython3",
   "version": "3.11.9"
  }
 },
 "nbformat": 4,
 "nbformat_minor": 2
}
